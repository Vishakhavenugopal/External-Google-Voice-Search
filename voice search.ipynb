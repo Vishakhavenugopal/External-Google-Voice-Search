{
 "cells": [
  {
   "cell_type": "code",
   "execution_count": 9,
   "metadata": {},
   "outputs": [
    {
     "name": "stdout",
     "output_type": "stream",
     "text": [
      "C:\\Users\\VIGNESH\n"
     ]
    }
   ],
   "source": [
    "%cd "
   ]
  },
  {
   "cell_type": "code",
   "execution_count": 10,
   "metadata": {},
   "outputs": [
    {
     "name": "stdout",
     "output_type": "stream",
     "text": [
      "GOOGLE VOICE SEARCH\n",
      "Speak Now\n",
      "who is deputy commissioner of mysore\n"
     ]
    }
   ],
   "source": [
    "\n",
    "import speech_recognition as sr\n",
    "import pyttsx3 \n",
    "i=1\n",
    "r = sr.Recognizer() \n",
    "\n",
    "def SpeakText(command):\n",
    "      \n",
    "    \n",
    "    engine = pyttsx3.init()\n",
    "    engine.say(command) \n",
    "    engine.runAndWait()\n",
    "  \n",
    "while(i==1):    \n",
    "  \n",
    "    try:\n",
    "        \n",
    "        with sr.Microphone() as source2:\n",
    "           \n",
    "            r.adjust_for_ambient_noise(source2, duration=0.2)\n",
    "            print(\"GOOGLE VOICE SEARCH\")\n",
    "            print(\"Speak Now\")\n",
    "            audio2 = r.listen(source2)\n",
    "         \n",
    "            MyText = r.recognize_google(audio2)\n",
    "            MyText = MyText.lower()\n",
    "  \n",
    "            print(MyText)\n",
    "            SpeakText(MyText)\n",
    "            i=2  \n",
    "    except sr.RequestError as e:\n",
    "        print(\"Could not request results; {0}\".format(e))\n",
    "          \n",
    "    except sr.UnknownValueError:\n",
    "        print(\"unknown error occured\")\n",
    "        \n",
    "from selenium import webdriver\n",
    "import time\n",
    "from selenium.webdriver.common.keys import Keys\n",
    "\n",
    "driver = webdriver.Chrome(executable_path=r\"C:\\Users\\VIGNESH\\Downloads\\Chromedriver\\chromedriver\")\n",
    "driver.set_page_load_timeout(\"10\")\n",
    "driver.get(\"https://www.google.com/\")\n",
    "driver.maximize_window()\n",
    "que = driver.find_element_by_name(\"q\")\n",
    "que.send_keys(MyText)\n",
    "time.sleep(3)\n",
    "que.send_keys(Keys.ARROW_DOWN)\n",
    "que.send_keys(Keys.RETURN)\n"
   ]
  },
  {
   "cell_type": "code",
   "execution_count": null,
   "metadata": {},
   "outputs": [],
   "source": []
  },
  {
   "cell_type": "code",
   "execution_count": null,
   "metadata": {},
   "outputs": [],
   "source": []
  },
  {
   "cell_type": "code",
   "execution_count": null,
   "metadata": {},
   "outputs": [],
   "source": []
  }
 ],
 "metadata": {
  "kernelspec": {
   "display_name": "Python 3",
   "language": "python",
   "name": "python3"
  },
  "language_info": {
   "codemirror_mode": {
    "name": "ipython",
    "version": 3
   },
   "file_extension": ".py",
   "mimetype": "text/x-python",
   "name": "python",
   "nbconvert_exporter": "python",
   "pygments_lexer": "ipython3",
   "version": "3.7.4"
  }
 },
 "nbformat": 4,
 "nbformat_minor": 2
}
